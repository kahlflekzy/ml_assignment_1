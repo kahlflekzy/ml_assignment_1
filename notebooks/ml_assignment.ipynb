{
 "cells": [
  {
   "cell_type": "markdown",
   "id": "f64e3059-e5a1-4bc0-bc07-dfb0c62e7bd5",
   "metadata": {
    "tags": []
   },
   "source": [
    "## Flight Delay Forecasting\n",
    "### Dalang, Felix Sihitshuwam\n",
    "\n",
    "- Preprocess\n",
    "- Visualize\n",
    "- Split"
   ]
  },
  {
   "cell_type": "code",
   "execution_count": 1,
   "id": "d9758769-2661-4a3b-928f-b18a20ad8401",
   "metadata": {},
   "outputs": [],
   "source": [
    "import pandas as pd\n",
    "import numpy as np\n",
    "import sklearn\n",
    "\n",
    "from scipy import stats\n",
    "from sklearn import metrics\n",
    "from sklearn.linear_model import LinearRegression\n",
    "from sklearn.preprocessing import LabelEncoder\n",
    "\n",
    "import matplotlib.pyplot as plt\n",
    "%matplotlib inline"
   ]
  },
  {
   "cell_type": "code",
   "execution_count": 2,
   "id": "964bdd0e-4816-4914-b793-609bf476864a",
   "metadata": {},
   "outputs": [],
   "source": [
    "data = pd.read_csv('../data/flight_delay.csv')"
   ]
  },
  {
   "cell_type": "code",
   "execution_count": 3,
   "id": "4ca2a2fb-e73f-42e0-90b2-f1cca9676f6a",
   "metadata": {},
   "outputs": [
    {
     "data": {
      "text/html": [
       "<div>\n",
       "<style scoped>\n",
       "    .dataframe tbody tr th:only-of-type {\n",
       "        vertical-align: middle;\n",
       "    }\n",
       "\n",
       "    .dataframe tbody tr th {\n",
       "        vertical-align: top;\n",
       "    }\n",
       "\n",
       "    .dataframe thead th {\n",
       "        text-align: right;\n",
       "    }\n",
       "</style>\n",
       "<table border=\"1\" class=\"dataframe\">\n",
       "  <thead>\n",
       "    <tr style=\"text-align: right;\">\n",
       "      <th></th>\n",
       "      <th>Delay</th>\n",
       "    </tr>\n",
       "  </thead>\n",
       "  <tbody>\n",
       "    <tr>\n",
       "      <th>count</th>\n",
       "      <td>675513.000000</td>\n",
       "    </tr>\n",
       "    <tr>\n",
       "      <th>mean</th>\n",
       "      <td>9.912939</td>\n",
       "    </tr>\n",
       "    <tr>\n",
       "      <th>std</th>\n",
       "      <td>44.895875</td>\n",
       "    </tr>\n",
       "    <tr>\n",
       "      <th>min</th>\n",
       "      <td>0.000000</td>\n",
       "    </tr>\n",
       "    <tr>\n",
       "      <th>25%</th>\n",
       "      <td>0.000000</td>\n",
       "    </tr>\n",
       "    <tr>\n",
       "      <th>50%</th>\n",
       "      <td>0.000000</td>\n",
       "    </tr>\n",
       "    <tr>\n",
       "      <th>75%</th>\n",
       "      <td>5.000000</td>\n",
       "    </tr>\n",
       "    <tr>\n",
       "      <th>max</th>\n",
       "      <td>1436.000000</td>\n",
       "    </tr>\n",
       "  </tbody>\n",
       "</table>\n",
       "</div>"
      ],
      "text/plain": [
       "               Delay\n",
       "count  675513.000000\n",
       "mean        9.912939\n",
       "std        44.895875\n",
       "min         0.000000\n",
       "25%         0.000000\n",
       "50%         0.000000\n",
       "75%         5.000000\n",
       "max      1436.000000"
      ]
     },
     "execution_count": 3,
     "metadata": {},
     "output_type": "execute_result"
    }
   ],
   "source": [
    "data.describe()"
   ]
  },
  {
   "cell_type": "code",
   "execution_count": 4,
   "id": "891e5007-d33f-4112-a9a5-15e7bf79da33",
   "metadata": {},
   "outputs": [
    {
     "data": {
      "text/html": [
       "<div>\n",
       "<style scoped>\n",
       "    .dataframe tbody tr th:only-of-type {\n",
       "        vertical-align: middle;\n",
       "    }\n",
       "\n",
       "    .dataframe tbody tr th {\n",
       "        vertical-align: top;\n",
       "    }\n",
       "\n",
       "    .dataframe thead th {\n",
       "        text-align: right;\n",
       "    }\n",
       "</style>\n",
       "<table border=\"1\" class=\"dataframe\">\n",
       "  <thead>\n",
       "    <tr style=\"text-align: right;\">\n",
       "      <th></th>\n",
       "      <th>Depature Airport</th>\n",
       "      <th>Scheduled depature time</th>\n",
       "      <th>Destination Airport</th>\n",
       "      <th>Scheduled arrival time</th>\n",
       "      <th>Delay</th>\n",
       "    </tr>\n",
       "  </thead>\n",
       "  <tbody>\n",
       "    <tr>\n",
       "      <th>0</th>\n",
       "      <td>SVO</td>\n",
       "      <td>2015-10-27 07:40:00</td>\n",
       "      <td>HAV</td>\n",
       "      <td>2015-10-27 20:45:00</td>\n",
       "      <td>0.0</td>\n",
       "    </tr>\n",
       "    <tr>\n",
       "      <th>1</th>\n",
       "      <td>SVO</td>\n",
       "      <td>2015-10-27 09:50:00</td>\n",
       "      <td>JFK</td>\n",
       "      <td>2015-10-27 20:35:00</td>\n",
       "      <td>2.0</td>\n",
       "    </tr>\n",
       "  </tbody>\n",
       "</table>\n",
       "</div>"
      ],
      "text/plain": [
       "  Depature Airport Scheduled depature time Destination Airport  \\\n",
       "0              SVO     2015-10-27 07:40:00                 HAV   \n",
       "1              SVO     2015-10-27 09:50:00                 JFK   \n",
       "\n",
       "  Scheduled arrival time  Delay  \n",
       "0    2015-10-27 20:45:00    0.0  \n",
       "1    2015-10-27 20:35:00    2.0  "
      ]
     },
     "execution_count": 4,
     "metadata": {},
     "output_type": "execute_result"
    }
   ],
   "source": [
    "data.head(2)"
   ]
  },
  {
   "cell_type": "code",
   "execution_count": 5,
   "id": "819d6710-4fc2-46df-9be1-8052a20344d6",
   "metadata": {},
   "outputs": [
    {
     "data": {
      "text/html": [
       "<div>\n",
       "<style scoped>\n",
       "    .dataframe tbody tr th:only-of-type {\n",
       "        vertical-align: middle;\n",
       "    }\n",
       "\n",
       "    .dataframe tbody tr th {\n",
       "        vertical-align: top;\n",
       "    }\n",
       "\n",
       "    .dataframe thead th {\n",
       "        text-align: right;\n",
       "    }\n",
       "</style>\n",
       "<table border=\"1\" class=\"dataframe\">\n",
       "  <thead>\n",
       "    <tr style=\"text-align: right;\">\n",
       "      <th></th>\n",
       "      <th>Depature Airport</th>\n",
       "      <th>Scheduled depature time</th>\n",
       "      <th>Destination Airport</th>\n",
       "      <th>Scheduled arrival time</th>\n",
       "      <th>Delay</th>\n",
       "    </tr>\n",
       "  </thead>\n",
       "  <tbody>\n",
       "    <tr>\n",
       "      <th>675511</th>\n",
       "      <td>SVO</td>\n",
       "      <td>2018-08-31 23:55:00</td>\n",
       "      <td>TSE</td>\n",
       "      <td>2018-09-01 03:15:00</td>\n",
       "      <td>0.0</td>\n",
       "    </tr>\n",
       "    <tr>\n",
       "      <th>675512</th>\n",
       "      <td>SVO</td>\n",
       "      <td>2018-08-31 17:25:00</td>\n",
       "      <td>IKT</td>\n",
       "      <td>2018-08-31 23:05:00</td>\n",
       "      <td>379.0</td>\n",
       "    </tr>\n",
       "  </tbody>\n",
       "</table>\n",
       "</div>"
      ],
      "text/plain": [
       "       Depature Airport Scheduled depature time Destination Airport  \\\n",
       "675511              SVO     2018-08-31 23:55:00                 TSE   \n",
       "675512              SVO     2018-08-31 17:25:00                 IKT   \n",
       "\n",
       "       Scheduled arrival time  Delay  \n",
       "675511    2018-09-01 03:15:00    0.0  \n",
       "675512    2018-08-31 23:05:00  379.0  "
      ]
     },
     "execution_count": 5,
     "metadata": {},
     "output_type": "execute_result"
    }
   ],
   "source": [
    "data.tail(2)"
   ]
  },
  {
   "cell_type": "code",
   "execution_count": 6,
   "id": "cde5af42-4a77-421f-9fd5-ccff631d776c",
   "metadata": {},
   "outputs": [],
   "source": [
    "x = data.drop('Delay', axis=1)\n",
    "y = data['Delay']"
   ]
  },
  {
   "cell_type": "code",
   "execution_count": 7,
   "id": "92f3165e-23d7-4e9d-a753-2ad65469b80d",
   "metadata": {},
   "outputs": [
    {
     "name": "stdout",
     "output_type": "stream",
     "text": [
      "Number of categorical features: 4\n"
     ]
    }
   ],
   "source": [
    "types = x.dtypes\n",
    "print(\"Number of categorical features:\", sum(types=='object'))"
   ]
  },
  {
   "cell_type": "markdown",
   "id": "870e919f-187c-488b-aaf0-b1acdf064475",
   "metadata": {},
   "source": [
    "#### We will now encode the data since they all aren't numeric"
   ]
  },
  {
   "cell_type": "code",
   "execution_count": 8,
   "id": "f1b6a5e9-715b-44ff-8097-35336df720df",
   "metadata": {},
   "outputs": [],
   "source": [
    "le = LabelEncoder()"
   ]
  },
  {
   "cell_type": "code",
   "execution_count": 9,
   "id": "ac1d39c0-79d3-4547-97e2-a4f79ecd7abe",
   "metadata": {},
   "outputs": [],
   "source": [
    "dept = x['Scheduled depature time']\n",
    "departure = pd.to_datetime(dept)\n",
    "arrival = pd.to_datetime(x['Scheduled arrival time'])\n",
    "\n",
    "duration = departure - arrival\n",
    "set_ = duration.unique()\n",
    "le.fit(set_)\n",
    "duration = le.transform(duration)"
   ]
  },
  {
   "cell_type": "code",
   "execution_count": 10,
   "id": "08dfdaab-d238-4ec4-ab89-dd590cdf0d15",
   "metadata": {},
   "outputs": [
    {
     "data": {
      "image/png": "[encoded data removed]",
      "text/plain": [
       "<Figure size 432x288 with 1 Axes>"
      ]
     },
     "metadata": {
      "needs_background": "light"
     },
     "output_type": "display_data"
    }
   ],
   "source": [
    "plt.scatter(duration, y)\n",
    "plt.title('Delay vs Flight Duration')\n",
    "plt.xlabel('Flight Duration (Encoded)')\n",
    "plt.ylabel('Delay (in mins)')\n",
    "plt.show()"
   ]
  },
  {
   "cell_type": "markdown",
   "id": "77113eb1-0865-4d4f-9b6e-6471b4741475",
   "metadata": {},
   "source": [
    "#### Detect if there are outliers\n",
    "##### From the graph it appears there are outliers, but we'll now confirm it.\n",
    "##### We sample one month of data, (Nov, 2015, here, random choice), then we apply the zcore technique of finding outliers."
   ]
  },
  {
   "cell_type": "code",
   "execution_count": 11,
   "id": "fd6f979c-aab0-42dd-a9ed-45f930a70441",
   "metadata": {},
   "outputs": [
    {
     "name": "stderr",
     "output_type": "stream",
     "text": [
      "C:\\Users\\Public\\Anaconda3\\lib\\site-packages\\ipykernel_launcher.py:7: SettingWithCopyWarning: \n",
      "A value is trying to be set on a copy of a slice from a DataFrame.\n",
      "Try using .loc[row_indexer,col_indexer] = value instead\n",
      "\n",
      "See the caveats in the documentation: https://pandas.pydata.org/pandas-docs/stable/user_guide/indexing.html#returning-a-view-versus-a-copy\n",
      "  import sys\n"
     ]
    }
   ],
   "source": [
    "sample = data.loc[(data['Scheduled depature time'] > '2015-10-31 23:59:00') &\n",
    "            (data['Scheduled depature time'] < '2015-12-01 00:00:00')]\n",
    "\n",
    "# we now have to encode sample data too\n",
    "for i in sample.columns.values:\n",
    "    fitter = sample[i]\n",
    "    sample[i] = le.fit_transform(fitter)"
   ]
  },
  {
   "cell_type": "code",
   "execution_count": 12,
   "id": "338a4ed9-be57-4f7c-ac92-c2e47eb5e2ca",
   "metadata": {},
   "outputs": [],
   "source": [
    "z = np.abs(stats.zscore(sample))"
   ]
  },
  {
   "cell_type": "markdown",
   "id": "c6cc304a-fa4c-4324-a911-29df2ab44dfc",
   "metadata": {},
   "source": [
    "from [here](https://towardsdatascience.com/ways-to-detect-and-remove-the-outliers-404d16608dba) we see that a threshold of 3 is usually used to detect outliers"
   ]
  },
  {
   "cell_type": "code",
   "execution_count": 13,
   "id": "43b2d81d-0a56-46d3-9445-48c19304c6b5",
   "metadata": {},
   "outputs": [
    {
     "name": "stdout",
     "output_type": "stream",
     "text": [
      "336\n"
     ]
    }
   ],
   "source": [
    "threshold = 3\n",
    "print(len(np.where(z > threshold)[0]))"
   ]
  },
  {
   "cell_type": "markdown",
   "id": "2443d5bf-b25f-44d8-ac83-86f70a2386cc",
   "metadata": {},
   "source": [
    "This indicates that there are outliers particularly in the 4th (arrival time) column."
   ]
  },
  {
   "cell_type": "markdown",
   "id": "9b6a5f3d-d248-464d-9af7-39b01d15356d",
   "metadata": {},
   "source": [
    "Machine Learning Algorithms"
   ]
  },
  {
   "cell_type": "code",
   "execution_count": 14,
   "id": "489983e0-acbf-4920-8ea1-c43acab3a297",
   "metadata": {},
   "outputs": [],
   "source": [
    "train_data = data.loc[data['Scheduled depature time'] < '2018-01-01 00:00:00']\n",
    "test_data = data.loc[data['Scheduled depature time'] > '2017-12-31 23:59:59']"
   ]
  },
  {
   "cell_type": "markdown",
   "id": "446b22ae-c987-4638-b7f9-565deac37a2c",
   "metadata": {},
   "source": [
    "We will now remove all outliers from the data"
   ]
  },
  {
   "cell_type": "code",
   "execution_count": 15,
   "id": "5bdd67a2-3d3d-4c74-82cd-40c60c33cb95",
   "metadata": {},
   "outputs": [
    {
     "name": "stderr",
     "output_type": "stream",
     "text": [
      "C:\\Users\\Public\\Anaconda3\\lib\\site-packages\\ipykernel_launcher.py:4: SettingWithCopyWarning: \n",
      "A value is trying to be set on a copy of a slice from a DataFrame.\n",
      "Try using .loc[row_indexer,col_indexer] = value instead\n",
      "\n",
      "See the caveats in the documentation: https://pandas.pydata.org/pandas-docs/stable/user_guide/indexing.html#returning-a-view-versus-a-copy\n",
      "  after removing the cwd from sys.path.\n",
      "C:\\Users\\Public\\Anaconda3\\lib\\site-packages\\ipykernel_launcher.py:5: SettingWithCopyWarning: \n",
      "A value is trying to be set on a copy of a slice from a DataFrame.\n",
      "Try using .loc[row_indexer,col_indexer] = value instead\n",
      "\n",
      "See the caveats in the documentation: https://pandas.pydata.org/pandas-docs/stable/user_guide/indexing.html#returning-a-view-versus-a-copy\n",
      "  \"\"\"\n"
     ]
    }
   ],
   "source": [
    "for i in data.columns.values:\n",
    "    fitter = train_data[i].append(test_data[i])\n",
    "    le.fit(fitter)\n",
    "    train_data[i] = le.transform(train_data[i])\n",
    "    test_data[i] = le.transform(test_data[i])"
   ]
  },
  {
   "cell_type": "code",
   "execution_count": 16,
   "id": "0f24f29a-e81a-4ab2-8e0b-206375f0ec3e",
   "metadata": {},
   "outputs": [
    {
     "data": {
      "text/plain": [
       "(6370, 1957)"
      ]
     },
     "execution_count": 16,
     "metadata": {},
     "output_type": "execute_result"
    }
   ],
   "source": [
    "z_train = np.abs(stats.zscore(train_data))\n",
    "train_data_n = train_data[(z_train < 3).all(axis=1)]\n",
    "\n",
    "z_test = np.abs(stats.zscore(test_data))\n",
    "test_data_n = test_data[(z_test < 3).all(axis=1)]\n",
    "\n",
    "train_data.shape[0] - train_data_n.shape[0], test_data.shape[0] - test_data_n.shape[0],"
   ]
  },
  {
   "cell_type": "markdown",
   "id": "993e9c86-41ca-42ba-a50d-7819d6747ec8",
   "metadata": {},
   "source": [
    "The count of cells above were removed from the train and test data, respectively"
   ]
  },
  {
   "cell_type": "code",
   "execution_count": null,
   "id": "43c07992-6cce-4832-a9b4-7f790868eef7",
   "metadata": {},
   "outputs": [],
   "source": []
  },
  {
   "cell_type": "code",
   "execution_count": null,
   "id": "9e840575-4239-4dfd-a7d9-d236881c1161",
   "metadata": {},
   "outputs": [],
   "source": [
    "regressor = LinearRegression()\n",
    "regressor.fit(train_X, train_y)\n",
    "y_pred = regressor.predict(test_X)"
   ]
  },
  {
   "cell_type": "code",
   "execution_count": null,
   "id": "a16b6b3f-85b7-4e9f-8df3-4ae7f67ea15a",
   "metadata": {},
   "outputs": [],
   "source": []
  },
  {
   "cell_type": "code",
   "execution_count": null,
   "id": "c502fd86-e3cc-4f1b-9e37-c0bc9d54ebab",
   "metadata": {},
   "outputs": [],
   "source": [
    "print('Mean Absolute Error:', metrics.mean_absolute_error(test_y, y_pred))\n",
    "print('Mean Squared Error:', metrics.mean_squared_error(test_y, y_pred))\n",
    "print('Root Mean Squared Error:', np.sqrt(metrics.mean_squared_error(test_y, y_pred)))"
   ]
  },
  {
   "cell_type": "markdown",
   "id": "d0a8b766-3a67-4a51-8e9f-84233d78363a",
   "metadata": {},
   "source": [
    "The above shows a high error"
   ]
  },
  {
   "cell_type": "code",
   "execution_count": null,
   "id": "8b9d60c8-c705-4386-93b6-b62337c90a09",
   "metadata": {},
   "outputs": [],
   "source": [
    "from sklearn.preprocessing import MinMaxScaler\n",
    "\n",
    "min_max = MinMaxScaler()\n",
    "\n",
    "x_train_m = min_max.fit_transform(train_X)\n",
    "x_test_m = min_max.fit_transform(test_X)\n",
    "\n",
    "regressor.fit(x_train_m, train_y)\n",
    "\n",
    "pred = regressor.predict(x_test_m)\n",
    "\n",
    "print('Mean Absolute Error:', metrics.mean_absolute_error(test_y, pred))\n",
    "print('Mean Squared Error:', metrics.mean_squared_error(test_y, pred))\n",
    "print('Root Mean Squared Error:', np.sqrt(metrics.mean_squared_error(test_y, pred)))"
   ]
  },
  {
   "cell_type": "markdown",
   "id": "daca70b0-bf1c-496b-8f47-410cf1407693",
   "metadata": {},
   "source": [
    "#### We will now try a polynomial regression using  flight duration as predictor"
   ]
  },
  {
   "cell_type": "markdown",
   "id": "6f063244-c7bd-44b4-8bd9-a2d9cf66dae9",
   "metadata": {},
   "source": [
    "We join the arrival and departure times into one column in order to concatenate them. For encoding purposes"
   ]
  },
  {
   "cell_type": "code",
   "execution_count": null,
   "id": "a195b68b-99ea-403c-86fb-c403cdadf7bb",
   "metadata": {},
   "outputs": [],
   "source": [
    "dept = pd.Series(x['Scheduled depature time'].unique())\n",
    "arr = pd.Series(x['Scheduled arrival time'].unique())\n",
    "all_ = pd.concat([dept, arr], ignore_index=True)\n",
    "all_ = all_.unique()\n",
    "dept.shape, arr.shape, all_.shape"
   ]
  },
  {
   "cell_type": "markdown",
   "id": "b64bf315-1b81-4c99-8e76-93e77cfe25ce",
   "metadata": {},
   "source": [
    "We will simply do this on the x_train and test data above"
   ]
  },
  {
   "cell_type": "code",
   "execution_count": null,
   "id": "d05e5a66-fb2d-47c3-96f7-044319b00c59",
   "metadata": {},
   "outputs": [],
   "source": [
    "flight_duration_test = test_X['Scheduled depature time'] - test_X['Scheduled arrival time']\n",
    "flight_duration_train = train_X['Scheduled depature time'] - train_X['Scheduled arrival time']\n",
    "\n",
    "flight_duration = pd.concat([flight_duration_train, flight_duration_test])\n",
    "flight_delay = pd.concat([train_y, test_y])\n",
    "\n",
    "# type(flight_duration_test), type(flight_duration_train)"
   ]
  },
  {
   "cell_type": "code",
   "execution_count": null,
   "id": "02436c63-104a-4f7e-96e3-119544c23728",
   "metadata": {},
   "outputs": [],
   "source": [
    "plt.scatter(flight_duration, flight_delay)\n",
    "plt.title('Delay vs Flight Duration')\n",
    "plt.xlabel('Flight Duration (Encoded)')\n",
    "plt.ylabel('Delay (in mins)')\n",
    "plt.show()"
   ]
  },
  {
   "cell_type": "code",
   "execution_count": null,
   "id": "0a757f8e-9448-4e6c-b370-82c5982ffdc3",
   "metadata": {},
   "outputs": [],
   "source": [
    "from sklearn.pipeline import Pipeline\n",
    "from sklearn.preprocessing import PolynomialFeatures\n",
    "from sklearn.model_selection import cross_val_score"
   ]
  },
  {
   "cell_type": "code",
   "execution_count": null,
   "id": "bc9b0773-1fd2-4784-821f-75bdc09612df",
   "metadata": {},
   "outputs": [],
   "source": [
    "plt.figure(figsize=(18, 6))\n",
    "degrees = [1, 5, 8]\n",
    "\n",
    "for i in range(3):\n",
    "    ax = plt.subplot(1, 3, i+1)\n",
    "    plt.setp(ax, xticks=(), yticks=())\n",
    "    \n",
    "    polynomial_features = PolynomialFeatures(degree=degrees[i])\n",
    "    linear_regression = LinearRegression()\n",
    "    pipeline = Pipeline([(\"polynomial_features\", polynomial_features),\n",
    "                        (\"linear_regression\", linear_regression)])\n",
    "    x = flight_duration_train\n",
    "    x = x[:, np.newaxis]\n",
    "    y = train_y\n",
    "    \n",
    "    pipeline.fit(x, y)\n",
    "    \n",
    "    scores = cross_val_score(pipeline, x, y, scoring='neg_mean_squared_error', cv=10)\n",
    "    \n",
    "    plt.plot(flight_duration_test, pipeline.predict(flight_duration_test[:, np.newaxis]), label='Model')\n",
    "    plt.plot(flight_duration_test, test_y, label=\"True function\")\n",
    "    plt.scatter(x, y, edgecolors='b', s=20, label='Samples')\n",
    "    plt.xlabel(\"Flight Duration\")\n",
    "    plt.ylabel(\"Delay (in mins)\")\n",
    "    \n",
    "    plt.legend(loc=\"best\")\n",
    "    \n",
    "    plt.title(f\"Degree {i}\\nMSE = {-scores.mean()}\")\n",
    "plt.show()    "
   ]
  },
  {
   "cell_type": "markdown",
   "id": "2c68d7e4-0b2c-4f92-8ca4-dc02258a01b3",
   "metadata": {},
   "source": [
    "#### Logistic Regression"
   ]
  },
  {
   "cell_type": "code",
   "execution_count": null,
   "id": "51378e58-9b5e-40f7-a4b1-d71f366cec94",
   "metadata": {},
   "outputs": [],
   "source": [
    "from sklearn.linear_model import Lasso\n",
    "from sklearn.metrics import mean_squared_error\n",
    "\n",
    "lasso = Lasso()\n",
    "lasso.fit(train_X, train_y)\n",
    "\n",
    "pred_y = lasso.predict(test_X)\n",
    "\n",
    "mean_squared_error(test_y, pred_y)"
   ]
  },
  {
   "cell_type": "code",
   "execution_count": null,
   "id": "e6b66add-5471-4b32-b9cc-2ed3b5ca8f31",
   "metadata": {},
   "outputs": [],
   "source": [
    "alphas = [3.2, 3.1, 3]\n",
    "losses = []\n",
    "for alpha in alphas:\n",
    "    lasso = Lasso(alpha=alpha)\n",
    "    lasso.fit(train_X, train_y)\n",
    "    pred_y = lasso.predict(test_X)\n",
    "    l = mean_squared_error(test_y, pred_y)\n",
    "    losses.append(l)\n",
    "    \n",
    "plt.plot(alphas, losses)\n",
    "plt.title(\"Lasso alpha value selection\")\n",
    "plt.xlabel(\"alpha\")\n",
    "plt.ylabel(\"Mean squared error\")\n",
    "plt.show()\n",
    "\n",
    "best_alpha = alphas[np.argmin(losses)]\n",
    "print(min(losses))\n",
    "print(\"Best value of alpha:\", best_alpha)"
   ]
  },
  {
   "cell_type": "markdown",
   "id": "d2ab67c1-8cb3-4682-82a6-3757c4d4b9b2",
   "metadata": {},
   "source": [
    "More help for encoding and scaling was obtained [here](https://www.analyticsvidhya.com/blog/2016/07/practical-guide-data-preprocessing-python-scikit-learn/)"
   ]
  },
  {
   "cell_type": "code",
   "execution_count": null,
   "id": "c7d4f219-ea59-41bc-b79c-6a591c27e641",
   "metadata": {},
   "outputs": [],
   "source": []
  }
 ],
 "metadata": {
  "kernelspec": {
   "display_name": "Python 3 (ipykernel)",
   "language": "python",
   "name": "python3"
  },
  "language_info": {
   "codemirror_mode": {
    "name": "ipython",
    "version": 3
   },
   "file_extension": ".py",
   "mimetype": "text/x-python",
   "name": "python",
   "nbconvert_exporter": "python",
   "pygments_lexer": "ipython3",
   "version": "3.7.3"
  }
 },
 "nbformat": 4,
 "nbformat_minor": 5
}
